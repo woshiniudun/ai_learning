{
 "cells": [
  {
   "cell_type": "markdown",
   "id": "b71822c7",
   "metadata": {},
   "source": [
    "# 11. 标准库简介 —— 第二部分\n",
    "第二部分涵盖了专业编程所需要的更高级的模块。这些模块很少用在小脚本中。"
   ]
  },
  {
   "cell_type": "markdown",
   "id": "077de90a",
   "metadata": {},
   "source": [
    "## 11.1. 格式化输出"
   ]
  },
  {
   "cell_type": "code",
   "execution_count": null,
   "id": "c61aaa5c",
   "metadata": {},
   "outputs": [],
   "source": [
    "'''reprlib 模块提供了一个定制化版本的 repr() 函数，用于缩略显示大型或深层嵌套的容器对象:\n",
    "'''\n",
    "import reprlib\n",
    "reprlib.repr(set('supercalifragilisticexpialidocious'))"
   ]
  },
  {
   "cell_type": "code",
   "execution_count": null,
   "id": "62d63c17",
   "metadata": {},
   "outputs": [],
   "source": [
    "'''pprint 模块提供了更加复杂的打印控制，其输出的内置对象和用户自定义对象能够被解释器直接读取。\n",
    "当输出结果过长而需要折行时，“美化输出机制”会添加换行符和缩进，以更清楚地展示数据结构:\n",
    "'''\n",
    "import pprint\n",
    "t = [[[['black', 'cyan'], 'white', ['green', 'red']], [['magenta','yellow'], 'blue']]]\n",
    "pprint.pprint(t, width=30)"
   ]
  },
  {
   "cell_type": "code",
   "execution_count": null,
   "id": "dc63da3a",
   "metadata": {},
   "outputs": [],
   "source": [
    "'''textwrap 模块能够格式化文本段落，以适应给定的屏幕宽度:\n",
    "'''\n",
    "import textwrap\n",
    "doc = \"\"\"The wrap() method is just like fill() except that it returns\n",
    "a list of strings instead of one big string with newlines to separate\n",
    "the wrapped lines.\"\"\"\n",
    "print(textwrap.fill(doc, width=40))"
   ]
  },
  {
   "cell_type": "code",
   "execution_count": null,
   "id": "e28078b9",
   "metadata": {},
   "outputs": [],
   "source": [
    "'''locale 模块处理与特定地域文化相关的数据格式。locale 模块的 format 函数包含一个 grouping 属性，可直接将数字格式化为带有组分隔符的样式:\n",
    "'''\n",
    "import locale\n",
    "locale.setlocale(locale.LC_ALL, 'English_United States.1252')"
   ]
  },
  {
   "cell_type": "code",
   "execution_count": null,
   "id": "c878e244",
   "metadata": {},
   "outputs": [],
   "source": [
    "conv = locale.localeconv()          # get a mapping of conventions\n",
    "x = 1234567.8\n",
    "locale.format_string(\"%d\", x, grouping=True)"
   ]
  },
  {
   "cell_type": "markdown",
   "id": "aa386e5c",
   "metadata": {},
   "source": [
    "## 11.2. 模板"
   ]
  },
  {
   "cell_type": "code",
   "execution_count": null,
   "id": "7fc51aa3",
   "metadata": {},
   "outputs": [],
   "source": [
    "'''string 模块包含一个通用的 Template 类，具有适用于最终用户的简化语法。它允许用户在不更改应用逻辑的情况下定制自己的应用。\n",
    "'''\n",
    "from string import Template\n",
    "t = Template('${village}folk send $$10 to $cause.')\n",
    "t.substitute(village='Nottingham', cause='the ditch fund')"
   ]
  },
  {
   "cell_type": "code",
   "execution_count": null,
   "id": "29b5be9d",
   "metadata": {},
   "outputs": [],
   "source": [
    "'''用户提供的数据有可能是不完整的，此时使用 safe_substitute() 方法更加合适 —— 如果数据缺失，它会直接将占位符原样保留。\n",
    "'''\n",
    "t = Template('Return the $item to $owner.')\n",
    "d = dict(item='unladen swallow')\n",
    "t.safe_substitute(d)"
   ]
  },
  {
   "cell_type": "code",
   "execution_count": null,
   "id": "218f9e81",
   "metadata": {},
   "outputs": [],
   "source": [
    "'''Template 的子类可以自定义分隔符。\n",
    "'''\n",
    "import time, os.path\n",
    "photofiles = ['img_1074.jpg', 'img_1076.jpg', 'img_1077.jpg']\n",
    "class BatchRename(Template):\n",
    "    delimiter = '%'"
   ]
  },
  {
   "cell_type": "code",
   "execution_count": null,
   "id": "7c37f263",
   "metadata": {},
   "outputs": [],
   "source": [
    "fmt = input('Enter rename style (%d-date %n-seqnum %f-format):  ')"
   ]
  },
  {
   "cell_type": "code",
   "execution_count": null,
   "id": "88fac103",
   "metadata": {},
   "outputs": [],
   "source": [
    "t = BatchRename(fmt)\n",
    "date = time.strftime('%d%b%y')\n",
    "for i, filename in enumerate(photofiles):\n",
    "    base, ext = os.path.splitext(filename)\n",
    "    newname = t.substitute(d=date, n=i, f=ext)\n",
    "    print('{0} --> {1}'.format(filename, newname))"
   ]
  },
  {
   "cell_type": "markdown",
   "id": "7cefd626",
   "metadata": {},
   "source": [
    "## 11.3. 使用二进制数据记录格式"
   ]
  },
  {
   "cell_type": "code",
   "execution_count": null,
   "id": "2056de9c",
   "metadata": {},
   "outputs": [],
   "source": [
    "import struct\n",
    "\n",
    "with open('myfile.zip', 'rb') as f:\n",
    "    data = f.read()\n",
    "\n",
    "start = 0\n",
    "for i in range(3):                      # show the first 3 file headers\n",
    "    start += 14\n",
    "    fields = struct.unpack('<IIIHH', data[start:start+16])\n",
    "    crc32, comp_size, uncomp_size, filenamesize, extra_size = fields\n",
    "\n",
    "    start += 16\n",
    "    filename = data[start:start+filenamesize]\n",
    "    start += filenamesize\n",
    "    extra = data[start:start+extra_size]\n",
    "    print(filename, hex(crc32), comp_size, uncomp_size)\n",
    "\n",
    "    start += extra_size + comp_size     # skip to the next header"
   ]
  },
  {
   "cell_type": "markdown",
   "id": "21cebab8",
   "metadata": {},
   "source": [
    "## 11.4. 多线程"
   ]
  },
  {
   "cell_type": "code",
   "execution_count": null,
   "id": "07329df3",
   "metadata": {},
   "outputs": [],
   "source": [
    "'''多线程应用面临的主要挑战是，相互协调的多个线程之间需要共享数据或其他资源。\n",
    "为此，threading 模块提供了多个同步操作原语，包括线程锁、事件、条件变量和信号量。\n",
    "应用程序使用 Queue 对象进行线程间通信和协调，更易于设计，更易读，更可靠。\n",
    "'''\n",
    "import threading, zipfile\n",
    "\n",
    "class AsyncZip(threading.Thread):\n",
    "    def __init__(self, infile, outfile):\n",
    "        threading.Thread.__init__(self)\n",
    "        self.infile = infile\n",
    "        self.outfile = outfile\n",
    "\n",
    "    def run(self):\n",
    "        f = zipfile.ZipFile(self.outfile, 'w', zipfile.ZIP_DEFLATED)\n",
    "        f.write(self.infile)\n",
    "        f.close()\n",
    "        print('Finished background zip of:', self.infile)\n",
    "\n",
    "background = AsyncZip('mydata.txt', 'myarchive.zip')\n",
    "background.start()\n",
    "print('The main program continues to run in foreground.')\n",
    "\n",
    "background.join()    # Wait for the background task to finish\n",
    "print('Main program waited until background was done.')"
   ]
  },
  {
   "cell_type": "markdown",
   "id": "8ffa2a5d",
   "metadata": {},
   "source": [
    "## 11.5. 日志"
   ]
  },
  {
   "cell_type": "code",
   "execution_count": null,
   "id": "b46f1a09",
   "metadata": {},
   "outputs": [],
   "source": [
    "import logging\n",
    "logging.debug('Debugging information')\n",
    "logging.info('Informational message')\n",
    "logging.warning('Warning:config file %s not found', 'server.conf')\n",
    "logging.error('Error occurred')\n",
    "logging.critical('Critical error -- shutting down')"
   ]
  },
  {
   "cell_type": "markdown",
   "id": "5f815f92",
   "metadata": {},
   "source": [
    "## 11.6. 弱引用"
   ]
  },
  {
   "cell_type": "code",
   "execution_count": null,
   "id": "cc2000f7",
   "metadata": {},
   "outputs": [],
   "source": [
    "'''Python 会自动进行内存管理（对大多数对象进行引用计数并使用 garbage collection 来清除循环引用\n",
    "当某个对象的最后一个引用被移除后不久就会释放其所占用的内存。\n",
    "'''\n",
    "import weakref, gc\n",
    "class A:\n",
    "    def __init__(self, value):\n",
    "        self.value = value\n",
    "    def __repr__(self):\n",
    "        return str(self.value)\n",
    "a = A(10)                   # create a reference\n",
    "d = weakref.WeakValueDictionary()\n",
    "d['primary'] = a            # does not create a reference\n",
    "d['primary']                # fetch the object if it is still alive         "
   ]
  },
  {
   "cell_type": "code",
   "execution_count": null,
   "id": "477b660e",
   "metadata": {},
   "outputs": [],
   "source": [
    "del a  \n",
    "gc.collect()   "
   ]
  },
  {
   "cell_type": "code",
   "execution_count": null,
   "id": "ffe86498",
   "metadata": {},
   "outputs": [],
   "source": [
    "d['primary'] "
   ]
  },
  {
   "cell_type": "markdown",
   "id": "1d12350a",
   "metadata": {},
   "source": [
    "## 11.7. 用于操作列表的工具"
   ]
  },
  {
   "cell_type": "code",
   "execution_count": null,
   "id": "f8c37d22",
   "metadata": {},
   "outputs": [],
   "source": [
    "'''array 模块提供了一种 array() 对象，它类似于列表，但只能存储类型一致的数据且存储密集更高\n",
    "'''\n",
    "from array import array\n",
    "a = array('H', [4000, 10, 700, 22222])\n",
    "sum(a)\n",
    "26932"
   ]
  },
  {
   "cell_type": "code",
   "execution_count": null,
   "id": "cc3a134b",
   "metadata": {},
   "outputs": [],
   "source": [
    "a[1:3]"
   ]
  },
  {
   "cell_type": "code",
   "execution_count": null,
   "id": "e3cbcee8",
   "metadata": {},
   "outputs": [],
   "source": [
    "'''collections 模块提供了一种 deque() 对象，它类似于列表，但从左端添加和弹出的速度较快，而在中间查找的速度较慢。\n",
    "此种对象适用于实现队列和广度优先树搜索:\n",
    "'''\n",
    "from collections import deque\n",
    "d = deque([\"task1\", \"task2\", \"task3\"])\n",
    "d.append(\"task4\")\n",
    "print(\"Handling\", d.popleft())"
   ]
  },
  {
   "cell_type": "code",
   "execution_count": null,
   "id": "21023d7f",
   "metadata": {},
   "outputs": [],
   "source": [
    "'''在替代的列表实现以外，标准库也提供了其他工具，例如 bisect 模块具有用于操作有序列表的函数:\n",
    "'''\n",
    "import bisect\n",
    "scores = [(100, 'perl'), (200, 'tcl'), (400, 'lua'), (500, 'python')]\n",
    "bisect.insort(scores, (300, 'ruby'))\n",
    "scores"
   ]
  },
  {
   "cell_type": "code",
   "execution_count": null,
   "id": "e43c6875",
   "metadata": {},
   "outputs": [],
   "source": [
    "'''heapq 模块提供了基于常规列表来实现堆的函数。 \n",
    "'''\n",
    "from heapq import heapify, heappop, heappush\n",
    "data = [1, 3, 5, 7, 9, 2, 4, 6, 8, 0]\n",
    "heapify(data)                      # rearrange the list into heap order\n",
    "heappush(data, -5)                 # add a new entry\n",
    "[heappop(data) for i in range(3)]  # fetch the three smallest entries"
   ]
  },
  {
   "cell_type": "markdown",
   "id": "654131db",
   "metadata": {},
   "source": [
    "## 11.8. 十进制浮点运算"
   ]
  },
  {
   "cell_type": "code",
   "execution_count": null,
   "id": "9c7a1aef",
   "metadata": {},
   "outputs": [],
   "source": [
    "'''decimal 模块提供了一种 Decimal 数据类型用于十进制浮点运算\n",
    "'''\n",
    "from decimal import *\n",
    "round(Decimal('0.70') * Decimal('1.05'), 2)\n",
    "Decimal('0.74')\n",
    "round(.70 * 1.05, 2)"
   ]
  },
  {
   "cell_type": "code",
   "execution_count": null,
   "id": "b26f3d96",
   "metadata": {},
   "outputs": [],
   "source": [
    "Decimal('1.00') % Decimal('.10')"
   ]
  },
  {
   "cell_type": "code",
   "execution_count": null,
   "id": "3d146dbc",
   "metadata": {},
   "outputs": [],
   "source": [
    "1.00 % 0.10"
   ]
  },
  {
   "cell_type": "code",
   "execution_count": null,
   "id": "1d7f57b0",
   "metadata": {},
   "outputs": [],
   "source": [
    "'''精确表示特性使得 Decimal 类能够执行对于二进制浮点数来说不适用的模运算和相等性检测:\n",
    "'''\n",
    "sum([Decimal('0.1')]*10) == Decimal('1.0')"
   ]
  },
  {
   "cell_type": "code",
   "execution_count": null,
   "id": "e7ee66de",
   "metadata": {},
   "outputs": [],
   "source": [
    "'''decimal 模块提供了运算所需要的足够精度:\n",
    "'''\n",
    "getcontext().prec = 36\n",
    "Decimal(1) / Decimal(7)"
   ]
  },
  {
   "cell_type": "code",
   "execution_count": null,
   "id": "7ce05214",
   "metadata": {},
   "outputs": [],
   "source": []
  }
 ],
 "metadata": {
  "kernelspec": {
   "display_name": "Python 3",
   "language": "python",
   "name": "python3"
  },
  "language_info": {
   "codemirror_mode": {
    "name": "ipython",
    "version": 3
   },
   "file_extension": ".py",
   "mimetype": "text/x-python",
   "name": "python",
   "nbconvert_exporter": "python",
   "pygments_lexer": "ipython3",
   "version": "3.7.0"
  }
 },
 "nbformat": 4,
 "nbformat_minor": 5
}
