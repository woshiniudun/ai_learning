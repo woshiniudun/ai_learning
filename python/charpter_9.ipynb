{
 "cells": [
  {
   "cell_type": "markdown",
   "id": "0a4ca239",
   "metadata": {},
   "source": [
    "# 9. 类"
   ]
  },
  {
   "cell_type": "markdown",
   "id": "56a55bfa",
   "metadata": {},
   "source": [
    "- 类把数据与功能绑定在一起。\n",
    "- 创建新类就是创建新的对象类型，从而创建该类型的新实例\n",
    "- 通常类成员（包括数据成员）是 public (例外见下文 私有变量)，所有成员函数都是 virtual。 "
   ]
  },
  {
   "cell_type": "markdown",
   "id": "a202449e",
   "metadata": {},
   "source": [
    "## 9.1. 名称和对象"
   ]
  },
  {
   "cell_type": "markdown",
   "id": "3f78e9f9",
   "metadata": {},
   "source": [
    "## 9.2. Python 作用域和命名空间"
   ]
  },
  {
   "cell_type": "markdown",
   "id": "7c3bb915",
   "metadata": {},
   "source": [
    "namespace （命名空间）是一个从名字到对象的映射。\n",
    "- 模块中的全局名称\n",
    "- 函数调用中的局部名称\n",
    "关于命名空间的重要一点是，\n",
    "\n",
    "不同命名空间中的名称之间绝对没有关系\n",
    "\n",
    "我把任何跟在一个点号之后的名称都称为属性\n",
    "\n",
    "包含内置名称的命名空间是在 Python 解释器启动时创建的，永远不会被删除。模块的全局命名空间在模块定义被读入时创建\n",
    "\n",
    "一个 作用域 是一个命名空间可直接访问的 Python 程序的文本区域，嵌套作用域:\n",
    "- 最先搜索的最内部作用域包含局部名称 local\n",
    "- 从最近的封闭作用域开始搜索的任何封闭函数的作用域包含    非局部名称，也包括非全局名称 nonlocal\n",
    "- 倒数第二个作用域包含当前模块的全局名称  gobal\n",
    "- 最外面的作用域（最后搜索）是包含内置名称的命名空间\n",
    "\n",
    "Python 正在朝着“编译时静态名称解析”的方向发展\n",
    "\n",
    " 如果不存在生效的 global 或 nonlocal 语句 -- 则对名称的赋值总是会进入最内层作用域。 赋值不会复制数据 --- 它们只是将名称绑定到对象。 \n",
    " \n",
    " 删除也是如此：语句 del x 会从局部作用域所引用的命名空间中移除对 x 的绑定"
   ]
  },
  {
   "cell_type": "code",
   "execution_count": 1,
   "id": "6c4d3fe9",
   "metadata": {},
   "outputs": [],
   "source": [
    "def scope_test():\n",
    "    def do_local():\n",
    "        spam = \"local spam\"\n",
    "\n",
    "    def do_nonlocal():\n",
    "        nonlocal spam\n",
    "        spam = \"nonlocal spam\"\n",
    "\n",
    "    def do_global():\n",
    "        global spam\n",
    "        spam = \"global spam\"\n",
    "\n",
    "    spam = \"test spam\"\n",
    "    do_local()\n",
    "    print(\"After local assignment:\", spam)\n",
    "    do_nonlocal()\n",
    "    print(\"After nonlocal assignment:\", spam)\n",
    "    do_global()\n",
    "    print(\"After global assignment:\", spam)\n",
    "\n",
    "scope_test()\n",
    "print(\"In global scope:\", spam)"
   ]
  },
  {
   "cell_type": "markdown",
   "id": "a311ded6",
   "metadata": {},
   "source": [
    "## 9.3. 初探类"
   ]
  },
  {
   "cell_type": "code",
   "execution_count": 2,
   "id": "65d34020",
   "metadata": {},
   "outputs": [
    {
     "data": {
      "text/plain": [
       "'9.3.1. 类定义语法\\n类定义与函数定义 (def 语句) 一样必须被执行才会起作用。\\n当进入类定义时，将创建一个新的命名空间，并将其用作局部作用域 --- 因此，所有对局部变量的赋值都是在这个新命名空间之内。 特别的，函数定义会绑定到这里的新函数名称。\\n当（从结尾处）正常离开类定义时，将创建一个 类对象。 这基本上是一个包围在类定义所创建命名空间内容周围的包装器；我们将在下一节了解有关类对象的更多信息。 \\n原始的（在进入类定义之前起作用的）局部作用域将重新生效，类对象将在这里被绑定到类定义头所给出的类名称 (在这个示例中为 ClassName)。\\n'"
      ]
     },
     "execution_count": 2,
     "metadata": {},
     "output_type": "execute_result"
    }
   ],
   "source": [
    "'''9.3.1. 类定义语法\n",
    "类定义与函数定义 (def 语句) 一样必须被执行才会起作用。\n",
    "当进入类定义时，将创建一个新的命名空间，并将其用作局部作用域 --- 因此，所有对局部变量的赋值都是在这个新命名空间之内。 特别的，函数定义会绑定到这里的新函数名称。\n",
    "当（从结尾处）正常离开类定义时，将创建一个 类对象。 这基本上是一个包围在类定义所创建命名空间内容周围的包装器；我们将在下一节了解有关类对象的更多信息。 \n",
    "原始的（在进入类定义之前起作用的）局部作用域将重新生效，类对象将在这里被绑定到类定义头所给出的类名称 (在这个示例中为 ClassName)。\n",
    "'''"
   ]
  },
  {
   "cell_type": "code",
   "execution_count": 3,
   "id": "6ab0ef69",
   "metadata": {},
   "outputs": [],
   "source": [
    "'''\n",
    "9.3.2. 类对象\n",
    "类对象支持两种操作：属性引用和实例化。\n",
    "'''\n",
    "class MyClass:\n",
    "    \"\"\"A simple example class\"\"\"\n",
    "    i = 12345\n",
    "\n",
    "    def f(self):\n",
    "        return 'hello world'\n",
    "    \n",
    "    def __init__(self,x,y):\n",
    "        self.data = [1,2,3,x,y]"
   ]
  },
  {
   "cell_type": "code",
   "execution_count": 4,
   "id": "46515bdf",
   "metadata": {},
   "outputs": [
    {
     "data": {
      "text/plain": [
       "12345"
      ]
     },
     "execution_count": 4,
     "metadata": {},
     "output_type": "execute_result"
    }
   ],
   "source": [
    "MyClass.i"
   ]
  },
  {
   "cell_type": "code",
   "execution_count": 5,
   "id": "811d716c",
   "metadata": {},
   "outputs": [
    {
     "ename": "NameError",
     "evalue": "name 'self' is not defined",
     "output_type": "error",
     "traceback": [
      "\u001b[1;31m---------------------------------------------------------------------------\u001b[0m",
      "\u001b[1;31mNameError\u001b[0m                                 Traceback (most recent call last)",
      "\u001b[1;32m<ipython-input-5-e7d80fa04635>\u001b[0m in \u001b[0;36m<module>\u001b[1;34m\u001b[0m\n\u001b[1;32m----> 1\u001b[1;33m \u001b[0mMyClass\u001b[0m\u001b[1;33m.\u001b[0m\u001b[0mf\u001b[0m\u001b[1;33m(\u001b[0m\u001b[0mself\u001b[0m\u001b[1;33m)\u001b[0m\u001b[1;33m\u001b[0m\u001b[0m\n\u001b[0m",
      "\u001b[1;31mNameError\u001b[0m: name 'self' is not defined"
     ]
    }
   ],
   "source": [
    "MyClass.f(self)"
   ]
  },
  {
   "cell_type": "code",
   "execution_count": null,
   "id": "04b2e08b",
   "metadata": {},
   "outputs": [],
   "source": [
    "MyClass.__doc__"
   ]
  },
  {
   "cell_type": "code",
   "execution_count": null,
   "id": "bb81b89c",
   "metadata": {},
   "outputs": [],
   "source": [
    "MyClass.__str__"
   ]
  },
  {
   "cell_type": "code",
   "execution_count": null,
   "id": "547eaaf2",
   "metadata": {},
   "outputs": [],
   "source": [
    "'''类的 实例化 使用函数表示法。 可以把类对象视为是返回该类的一个新实例的不带参数的函数\n",
    "'''\n",
    "c = MyClass()\n",
    "c.f()"
   ]
  },
  {
   "cell_type": "code",
   "execution_count": null,
   "id": "6ba68e7a",
   "metadata": {},
   "outputs": [],
   "source": [
    "d = MyClass(4,5)\n",
    "d.data"
   ]
  },
  {
   "cell_type": "code",
   "execution_count": null,
   "id": "8e6b670f",
   "metadata": {},
   "outputs": [],
   "source": [
    "'''9.3.3. 实例对象\n",
    "实例对象理解的唯一操作是属性引用。 有两种有效的属性名称：数据属性和方法。\n",
    "数据属性不需要声明；像局部变量一样，它们将在第一次被赋值时产生。\n",
    "'''"
   ]
  },
  {
   "cell_type": "code",
   "execution_count": null,
   "id": "531946ff",
   "metadata": {},
   "outputs": [],
   "source": [
    "'''9.3.4. 方法对象\n",
    "但是，立即调用一个方法并不是必须的: x.f 是一个方法对象，它可以被保存起来以后再调用\n",
    "实际上，你可能已经猜到了答案：方法的特殊之处就在于实例对象会作为函数的第一个参数被传入。\n",
    "如果被引用的属性名称表示一个有效的类属性中的函数对象，会通过打包（指向）查找到的实例对象和函数对象到一个抽象对象的方式来创建方法对象：这个抽象对象就是方法对象。 \n",
    "'''\n",
    "x = d.f\n",
    "x()"
   ]
  },
  {
   "cell_type": "code",
   "execution_count": null,
   "id": "30c0f42f",
   "metadata": {},
   "outputs": [],
   "source": [
    "'''9.3.5. 类和实例变量\n",
    "一般来说，实例变量用于每个实例的唯一数据，而类变量用于类的所有实例共享的属性和方法:\n",
    "'''\n",
    "class Dog:\n",
    "\n",
    "    kind = 'canine'         # class variable shared by all instances\n",
    "\n",
    "    def __init__(self, name):\n",
    "        self.name = name    # instance variable unique to each instance"
   ]
  },
  {
   "cell_type": "code",
   "execution_count": null,
   "id": "d9516974",
   "metadata": {},
   "outputs": [],
   "source": [
    "d = Dog('xiaoai')\n",
    "e = Dog('dog')"
   ]
  },
  {
   "cell_type": "code",
   "execution_count": null,
   "id": "33c94ff7",
   "metadata": {},
   "outputs": [],
   "source": [
    "d.kind"
   ]
  },
  {
   "cell_type": "code",
   "execution_count": null,
   "id": "1cdd721b",
   "metadata": {},
   "outputs": [],
   "source": [
    "e.kind"
   ]
  },
  {
   "cell_type": "code",
   "execution_count": null,
   "id": "2f7064c8",
   "metadata": {},
   "outputs": [],
   "source": [
    "d.name"
   ]
  },
  {
   "cell_type": "code",
   "execution_count": null,
   "id": "986da1f1",
   "metadata": {},
   "outputs": [],
   "source": [
    "e.name"
   ]
  },
  {
   "cell_type": "markdown",
   "id": "bf1d9bd2",
   "metadata": {},
   "source": [
    "## 9.4. 补充说明"
   ]
  },
  {
   "cell_type": "code",
   "execution_count": null,
   "id": "97d8abe7",
   "metadata": {},
   "outputs": [],
   "source": [
    "'''如果同样的属性名称同时出现在实例和类中，则属性查找会优先选择实例:\n",
    "'''\n",
    "class Warehouse:\n",
    "        purpose = 'storage'\n",
    "        region = 'west'\n",
    "w1 = Warehouse()\n",
    "print(w1.purpose, w1.region)\n",
    "w2 = Warehouse()\n",
    "w2.region = 'east'\n",
    "print(w2.purpose, w2.region)"
   ]
  },
  {
   "cell_type": "code",
   "execution_count": null,
   "id": "5fc3c348",
   "metadata": {},
   "outputs": [],
   "source": [
    "'''\n",
    "方法的第一个参数常常被命名为 self。 这也不过就是一个约定: self 这一名称在 Python 中绝对没有特殊含义。 \n",
    "但是要注意，不遵循此约定会使得你的代码对其他 Python 程序员来说缺乏可读性，\n",
    "而且也可以想像一个 类浏览器 程序的编写可能会依赖于这样的约定。\n",
    "'''"
   ]
  },
  {
   "cell_type": "code",
   "execution_count": null,
   "id": "0a80fc6c",
   "metadata": {},
   "outputs": [],
   "source": [
    "'''任何一个作为类属性的函数都为该类的实例定义了一个相应方法\n",
    "'''"
   ]
  },
  {
   "cell_type": "code",
   "execution_count": null,
   "id": "4089b3c7",
   "metadata": {},
   "outputs": [],
   "source": [
    "'''\n",
    "每个值都是一个对象，因此具有 类 （也称为 类型），并存储为 object.__class__ \n",
    "'''"
   ]
  },
  {
   "cell_type": "markdown",
   "id": "5f634849",
   "metadata": {},
   "source": [
    "## 9.5. 继承"
   ]
  },
  {
   "cell_type": "markdown",
   "id": "999ea0f5",
   "metadata": {},
   "source": [
    "派生类定义的执行过程与基类相同。\n",
    "当构造类对象时，基类会被记住。 \n",
    "此信息将被用来解析属性引用：如果请求的属性在类中找不到，搜索将转往基类中进行查找。 \n",
    "如果基类本身也派生自其他某个类，则此规则将被递归地应用。\n",
    "\n",
    "方法引用将按以下方式解析：搜索相应的类属性，如有必要将按基类继承链逐步向下查找，如果产生了一个函数对象则方法引用就生效。\n",
    "也就是覆写"
   ]
  },
  {
   "cell_type": "code",
   "execution_count": null,
   "id": "a5b254cc",
   "metadata": {},
   "outputs": [],
   "source": [
    "c = bool\n",
    "issubclass(c,int)"
   ]
  },
  {
   "cell_type": "code",
   "execution_count": null,
   "id": "2de25c57",
   "metadata": {},
   "outputs": [],
   "source": [
    "obj = bool()\n",
    "isinstance(obj,bool)"
   ]
  },
  {
   "cell_type": "markdown",
   "id": "716ce888",
   "metadata": {},
   "source": [
    "### 9.5.1. 多重继承\n",
    "你可以认为搜索从父类所继承属性的操作是深度优先、从左至右的\n",
    " \n",
    "例如，所有类都是继承自 object，因此任何多重继承的情况都提供了一条以上的路径可以通向 object。 </br>\n",
    "为了确保基类不会被访问一次以上，动态算法会用一种特殊方式将搜索顺序线性化， 保留每个类所指定的从左至右的顺序，只调用每个父类一次，</br>\n",
    "并且保持单调（即一个类可以被子类化而不影响其父类的优先顺序）"
   ]
  },
  {
   "cell_type": "markdown",
   "id": "5d0ff52c",
   "metadata": {},
   "source": [
    "## 9.6. 私有变量\n",
    "那种仅限从一个对象内部访问的“私有”实例变量在 Python 中并不存在。</br>\n",
    "但是，大多数 Python 代码都遵循这样一个约定：带有一个下划线的名称 (例如 _spam) 应该被当作是 API 的非公有部分 (无论它是函数、方法或是数据成员)。</br>\n",
    "这应当被视为一个实现细节，可能不经通知即加以改变。 </br>\n",
    "名称改写:任何形式为 __spam 的标识符（至少带有两个前缀下划线，至多一个后缀下划线）的文本将被替换为 _classname__spam"
   ]
  },
  {
   "cell_type": "markdown",
   "id": "8c64f1f9",
   "metadata": {},
   "source": [
    "'''防止被子类的方法覆写'''\n",
    "class Mapping:\n",
    "    def __init__(self, iterable):\n",
    "        self.items_list = []\n",
    "        self.__update(iterable)\n",
    "\n",
    "    def update(self, iterable):\n",
    "        print('mapping')\n",
    "        for item in iterable:\n",
    "            self.items_list.append(item)\n",
    "\n",
    "    __update = update   # private copy of original update() method\n",
    "\n",
    "class MappingSubclass(Mapping):\n",
    "\n",
    "    def update(self, keys, values):\n",
    "        # provides new signature for update()\n",
    "        # but does not break __init__()\n",
    "        print('mappingsubclass')\n",
    "        for item in zip(keys, values):\n",
    "            self.items_list.append(item)\n",
    "li = [1,2,3]\n",
    "c = Mapping(li)\n",
    "c.items_list\n"
   ]
  },
  {
   "cell_type": "code",
   "execution_count": null,
   "id": "6a186b90",
   "metadata": {},
   "outputs": [],
   "source": [
    "li_2 = [1,2,3,4]\n",
    "d = MappingSubclass(li_2)\n",
    "d.items_list"
   ]
  },
  {
   "cell_type": "code",
   "execution_count": null,
   "id": "e40ada16",
   "metadata": {},
   "outputs": [],
   "source": [
    "class Employee:\n",
    "    pass\n",
    "\n",
    "john = Employee()  # Create an empty employee record\n",
    "\n",
    "# Fill the fields of the record\n",
    "john.name = 'John Doe'\n",
    "john.dept = 'computer lab'\n",
    "john.salary = 1000"
   ]
  },
  {
   "cell_type": "markdown",
   "id": "d0996400",
   "metadata": {},
   "source": [
    "## 9.7 杂项说明"
   ]
  },
  {
   "cell_type": "code",
   "execution_count": null,
   "id": "ac2bfd7e",
   "metadata": {},
   "outputs": [],
   "source": [
    "class Employee:\n",
    "    \n",
    "    def f():\n",
    "        pass\n",
    "\n",
    "john = Employee()  # Create an empty employee record\n",
    "\n",
    "# Fill the fields of the record\n",
    "john.name = 'John Doe'\n",
    "john.dept = 'computer lab'\n",
    "john.salary = 1000\n",
    "\n",
    "john.salary"
   ]
  },
  {
   "cell_type": "markdown",
   "id": "71d9309a",
   "metadata": {},
   "source": [
    "## 9.8. 迭代器\n",
    " 在幕后，for 语句会在容器对象上调用 iter()。 </br>\n",
    " 该函数返回一个定义了 __next__() 方法的迭代器对象，此方法将逐一访问容器中的元素。 </br>\n",
    " 当元素用尽时，__next__() 将引发 StopIteration 异常来通知终止 for 循环"
   ]
  },
  {
   "cell_type": "code",
   "execution_count": null,
   "id": "ea7b6145",
   "metadata": {},
   "outputs": [],
   "source": [
    "s = 'abc'\n",
    "it = iter(s)\n",
    "next(it)"
   ]
  },
  {
   "cell_type": "code",
   "execution_count": null,
   "id": "93b8f6f5",
   "metadata": {},
   "outputs": [],
   "source": [
    "next(it)"
   ]
  },
  {
   "cell_type": "code",
   "execution_count": null,
   "id": "0fb6c244",
   "metadata": {},
   "outputs": [],
   "source": [
    "next(it)"
   ]
  },
  {
   "cell_type": "code",
   "execution_count": null,
   "id": "83b43f7e",
   "metadata": {},
   "outputs": [],
   "source": [
    "'''自定义迭代器\n",
    "'''\n",
    "class Reverse:\n",
    "    \"\"\"Iterator for looping over a sequence backwards.\"\"\"\n",
    "    def __init__(self, data):\n",
    "        self.data = data\n",
    "        self.index = len(data)\n",
    "\n",
    "    def __iter__(self):\n",
    "        return self\n",
    "\n",
    "    def __next__(self):\n",
    "        if self.index == 0:\n",
    "            raise StopIteration\n",
    "        self.index = self.index - 1\n",
    "        return self.data[self.index]\n",
    "rev = Reverse('spam')\n",
    "for char in rev:\n",
    "    print(char)"
   ]
  },
  {
   "cell_type": "markdown",
   "id": "32bd80e9",
   "metadata": {},
   "source": [
    "## 9.9. 生成器\n",
    "生成器 是一个用于创建迭代器的简单而强大的工具。"
   ]
  },
  {
   "cell_type": "code",
   "execution_count": null,
   "id": "f254b2d9",
   "metadata": {},
   "outputs": [],
   "source": [
    "def reverse(data):\n",
    "    for index in range(len(data)-1, -1, -1):\n",
    "        yield data[index]\n",
    "for char in reverse('golf'):\n",
    "    print(char)\n",
    "'''每次在生成器上调用 next() 时，它会从上次离开的位置恢复执行\n",
    "生成器的写法更为紧凑，因为它会自动创建 __iter__() 和 __next__() 方法。\n",
    "另一个关键特性在于局部变量和执行状态会在每次调用之间自动保存。\n",
    "当生成器终结时，它们还会自动引发 StopIteration\n",
    "'''"
   ]
  },
  {
   "cell_type": "markdown",
   "id": "99757f2f",
   "metadata": {},
   "source": [
    "## 9.10. 生成器表达式"
   ]
  },
  {
   "cell_type": "code",
   "execution_count": null,
   "id": "0d978f33",
   "metadata": {},
   "outputs": [],
   "source": [
    "'''生成器表达式相比完整的生成器更紧凑但较不灵活，相比等效的列表推导式则更为节省内存z\n",
    "'''\n",
    "xvec = [10, 20, 30]\n",
    "yvec = [7, 5, 3]\n",
    "sum(x*y for x,y in zip(xvec, yvec))"
   ]
  }
 ],
 "metadata": {
  "kernelspec": {
   "display_name": "Python 3",
   "language": "python",
   "name": "python3"
  },
  "language_info": {
   "codemirror_mode": {
    "name": "ipython",
    "version": 3
   },
   "file_extension": ".py",
   "mimetype": "text/x-python",
   "name": "python",
   "nbconvert_exporter": "python",
   "pygments_lexer": "ipython3",
   "version": "3.7.0"
  }
 },
 "nbformat": 4,
 "nbformat_minor": 5
}
