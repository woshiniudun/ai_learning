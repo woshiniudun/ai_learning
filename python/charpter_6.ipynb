{
 "cells": [
  {
   "cell_type": "markdown",
   "metadata": {},
   "source": [
    "# 6.模块"
   ]
  },
  {
   "cell_type": "markdown",
   "metadata": {},
   "source": [
    "### 6.1. 模块详解\n"
   ]
  },
  {
   "cell_type": "code",
   "execution_count": null,
   "metadata": {},
   "outputs": [],
   "source": [
    "'''\n",
    "在模块内部，通过全局变量 __name__ 可以获取模块名（即字符串）\n",
    "'''\n",
    "import numpy\n",
    "\n",
    "numpy.__name__"
   ]
  },
  {
   "cell_type": "code",
   "execution_count": null,
   "metadata": {},
   "outputs": [],
   "source": [
    "'''6.1模块详解\n",
    "模块包含可执行语句及函数定义。这些语句用于初始化模块，且仅在 import 语句 第一次 遇到模块名时执行。\n",
    "模块有自己的私有符号表，用作模块中所有函数的全局符号表\n",
    "import 语句有一个变体，可以直接把模块里的名称导入到另一个模块的符号表\n",
    "这种方式会导入所有不以下划线（_）开头的名称。\n",
    "'''\n",
    "from numpy import arange\n",
    "from numpy import *"
   ]
  },
  {
   "cell_type": "markdown",
   "metadata": {},
   "source": [
    "### 6.1.1 以脚本方式执行模块\n",
    "python main.py\n"
   ]
  },
  {
   "cell_type": "markdown",
   "metadata": {},
   "source": [
    "### 6.1.2. 模块搜索路径\n",
    "导入 spam 模块时，解释器首先查找名为 spam 的内置模块。\n",
    "\n",
    "如果没找到，解释器再从 sys.path 变量中的目录列表里查找 spam.py 文件。\n",
    "\n",
    "sys.path 初始化时包含以下位置：\n",
    "\n",
    "- 输入脚本的目录（或未指定文件时的当前目录）。\n",
    "\n",
    "- PYTHONPATH （目录列表，与 shell 变量 PATH 的语法一样）。\n",
    "\n",
    "- 默认安装目录。\n"
   ]
  },
  {
   "cell_type": "markdown",
   "metadata": {},
   "source": [
    "### 6.1.3. “已编译的” Python 文件\n",
    "为了快速加载模块，Python 把模块的编译版缓存在 __pycache__ 目录中，文件名为 module.version.pyc，version 对编译文件格式进行编码，一般是 Python 的版本号。\n",
    "\n",
    "例如，CPython 的 3.3 发行版中，spam.py 的编译版本缓存为 __pycache__/spam.cpython-33.pyc。"
   ]
  },
  {
   "cell_type": "markdown",
   "metadata": {},
   "source": [
    "### 6.2. 标准模块\n"
   ]
  },
  {
   "cell_type": "code",
   "execution_count": null,
   "metadata": {},
   "outputs": [],
   "source": [
    "'''\n",
    "Python 附带了标准模块库，详见 Python 标准库参考手册（以下简称为“库参考”）。\n",
    "特别要注意内嵌到 Python 解释器中的模块 sys。\n",
    "变量 sys.ps1 和 sys.ps2 则用来定义主次提示的字符串\n",
    "'''\n",
    "import sys"
   ]
  },
  {
   "cell_type": "code",
   "execution_count": null,
   "metadata": {},
   "outputs": [],
   "source": [
    "sys.ps1"
   ]
  },
  {
   "cell_type": "code",
   "execution_count": null,
   "metadata": {},
   "outputs": [],
   "source": [
    "sys.ps2"
   ]
  },
  {
   "cell_type": "code",
   "execution_count": null,
   "metadata": {},
   "outputs": [],
   "source": [
    "sys.path.append('/ufs/guido/lib/python')\n",
    "sys.path\n"
   ]
  },
  {
   "cell_type": "markdown",
   "metadata": {},
   "source": [
    "### 6.3. dir() 函数"
   ]
  },
  {
   "cell_type": "code",
   "execution_count": null,
   "metadata": {},
   "outputs": [],
   "source": [
    "'''\n",
    "内置函数 dir() 用于查找模块定义的名称。返回结果是经过排序的字符串列表：\n",
    "'''\n",
    "import main\n",
    "dir(main)\n"
   ]
  },
  {
   "cell_type": "code",
   "execution_count": null,
   "metadata": {},
   "outputs": [],
   "source": [
    "'''\n",
    "没有参数时，dir() 列出当前定义的名称：\n",
    "\n",
    "'''\n",
    "import main\n",
    "dir()"
   ]
  },
  {
   "cell_type": "code",
   "execution_count": null,
   "metadata": {},
   "outputs": [],
   "source": [
    "'''\n",
    "dir() 不会列出内置函数和变量的名称。这些内容的定义在标准模块 builtins 里：\n",
    "\n",
    "'''\n",
    "import builtins\n",
    "dir(builtins)  "
   ]
  },
  {
   "cell_type": "markdown",
   "metadata": {},
   "source": [
    "### 6.4. 包"
   ]
  },
  {
   "cell_type": "raw",
   "metadata": {},
   "source": [
    "包结构\n",
    "Python 只把含 __init__.py 文件的目录当成包。\n",
    "这样可以防止以 string 等通用名称命名的目录，无意中屏蔽出现在后方模块搜索路径中的有效模块。\n",
    "sound/                          Top-level package\n",
    "      __init__.py               Initialize the sound package\n",
    "      formats/                  Subpackage for file format conversions\n",
    "              __init__.py\n",
    "              wavread.py\n",
    "              wavwrite.py\n",
    "              aiffread.py\n",
    "              aiffwrite.py\n",
    "              auread.py\n",
    "              auwrite.py\n",
    "              ...\n",
    "      - effects/                  Subpackage for sound effects\n",
    "              __init__.py\n",
    "              echo.py\n",
    "              surround.py\n",
    "              reverse.py\n",
    "              ...\n",
    "      filters/                  Subpackage for filters\n",
    "              __init__.py\n",
    "              equalizer.py\n",
    "              vocoder.py\n",
    "              karaoke.py\n",
    "              ...\n",
    "              "
   ]
  },
  {
   "cell_type": "raw",
   "metadata": {},
   "source": [
    "'''\n",
    "注意，使用 from package import item 时，item 可以是包的子模块（或子包），也可以是包中定义的函数、类或变量等其他名称。\n",
    "import 语句首先测试包中是否定义了 item；如果未在包中定义，则假定 item 是模块，并尝试加载。\n",
    "如果找不到 item，则触发 ImportError 异常。\n",
    "\n",
    "相反，使用 import item.subitem.subsubitem 句法时，除最后一项外，每个 item 都必须是包；\n",
    "最后一项可以是模块或包，但不能是上一项中定义的类、函数或变量。\n",
    "'''"
   ]
  },
  {
   "cell_type": "raw",
   "metadata": {},
   "source": [
    "'''6.4.1. 从包中导入 *\n",
    "import 语句使用如下惯例：\n",
    "    如果包的 __init__.py 代码定义了列表 __all__，运行 from package import * 时，它就是用于导入的模块名列表。\n",
    "虽然，可以把模块设计为用 import * 时只导出遵循指定模式的名称，但仍不提倡在生产代码中使用这种做法。\n",
    "'''"
   ]
  },
  {
   "cell_type": "code",
   "execution_count": null,
   "metadata": {},
   "outputs": [],
   "source": [
    "'''6.4.2. 子包参考\n",
    "注意，相对导入基于当前模块名。因为主模块名是 \"__main__\" ，所以 Python 程序的主模块必须始终使用绝对导入。\n",
    "from .. import main\n",
    "import python.main\n",
    "''’"
   ]
  }
 ],
 "metadata": {
  "kernelspec": {
   "display_name": "Python 3",
   "language": "python",
   "name": "python3"
  },
  "language_info": {
   "codemirror_mode": {
    "name": "ipython",
    "version": 3
   },
   "file_extension": ".py",
   "mimetype": "text/x-python",
   "name": "python",
   "nbconvert_exporter": "python",
   "pygments_lexer": "ipython3",
   "version": "3.7.0"
  }
 },
 "nbformat": 4,
 "nbformat_minor": 4
}
