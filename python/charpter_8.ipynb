{
 "cells": [
  {
   "cell_type": "markdown",
   "id": "b95abebd",
   "metadata": {},
   "source": [
    "# 8. 错误和异常"
   ]
  },
  {
   "cell_type": "markdown",
   "id": "d4a71bd1",
   "metadata": {},
   "source": [
    "## 8.1句法错误"
   ]
  },
  {
   "cell_type": "code",
   "execution_count": null,
   "id": "884535f1",
   "metadata": {},
   "outputs": [],
   "source": [
    "printd('asdf')\n",
    "def a():\n",
    "    printd()\n",
    "a()"
   ]
  },
  {
   "cell_type": "code",
   "execution_count": null,
   "id": "d427babc",
   "metadata": {},
   "outputs": [],
   "source": [
    "'''\n",
    "标准的异常类型是内置的标识符（不是保留关键字）。\n",
    "'''\n",
    "1/0"
   ]
  },
  {
   "cell_type": "code",
   "execution_count": null,
   "id": "60b4589e",
   "metadata": {},
   "outputs": [],
   "source": [
    "1+n"
   ]
  },
  {
   "cell_type": "markdown",
   "id": "be6f1779",
   "metadata": {},
   "source": [
    "[内置异常](https://docs.python.org/zh-cn/3/library/exceptions.html#bltin-exceptions)"
   ]
  },
  {
   "cell_type": "code",
   "execution_count": null,
   "id": "85921883",
   "metadata": {},
   "outputs": [],
   "source": [
    "raise ValueError() from TypeError()"
   ]
  },
  {
   "cell_type": "code",
   "execution_count": null,
   "id": "23c2076d",
   "metadata": {},
   "outputs": [],
   "source": [
    "import sys\n",
    "tb = sys.exc_info()[2]\n",
    "raise Exception(...).with_traceback(tb)\n"
   ]
  },
  {
   "cell_type": "code",
   "execution_count": null,
   "id": "85785fb6",
   "metadata": {},
   "outputs": [],
   "source": [
    "## 8.3. 处理异常"
   ]
  },
  {
   "cell_type": "code",
   "execution_count": null,
   "id": "e90a88a0",
   "metadata": {},
   "outputs": [],
   "source": [
    "while True:\n",
    "    try:\n",
    "         x = int(input(\"Please enter a number: \"))\n",
    "         break\n",
    "    except ValueError:\n",
    "        print(\"Oops!  That was no valid number.  Try again...\")"
   ]
  },
  {
   "cell_type": "code",
   "execution_count": null,
   "id": "4123b2f5",
   "metadata": {},
   "outputs": [],
   "source": [
    "'''\n",
    "最后的 except 子句可以省略异常名，以用作通配符。\n",
    "try ... except 语句有一个可选的 else 子句，在使用时必须放在所有的 except 子句后面。\n",
    "except 子句可以在异常名称后面指定一个变量。这个变量和一个异常实例绑定，它的参数存储在 instance.args 中\n",
    "'''\n",
    "class B(Exception):\n",
    "    pass\n",
    "\n",
    "class C(B):\n",
    "    pass\n",
    "\n",
    "class D(C):\n",
    "    pass\n",
    "class E(Obejct):\n",
    "    pass\n",
    "for cls in [B, C, D,E]:\n",
    "    try:\n",
    "        raise cls('asdf')\n",
    "    except D as d:\n",
    "        print(d)\n",
    "    except C:\n",
    "        print(\"C\")\n",
    "    except B:\n",
    "        print(\"B\")\n",
    "    else:\n",
    "        print('asdf')\n"
   ]
  },
  {
   "cell_type": "markdown",
   "id": "74011f52",
   "metadata": {},
   "source": [
    "## 8.4. 触发异常"
   ]
  },
  {
   "cell_type": "code",
   "execution_count": null,
   "id": "71fd3cd2",
   "metadata": {},
   "outputs": [],
   "source": [
    "raise ValueError  # shorthand for 'raise ValueError()'\n"
   ]
  },
  {
   "cell_type": "code",
   "execution_count": null,
   "id": "2cdd7f4b",
   "metadata": {},
   "outputs": [],
   "source": [
    "raise ValueError('hxm')"
   ]
  },
  {
   "cell_type": "markdown",
   "id": "cc618af7",
   "metadata": {},
   "source": [
    "## 8.5. 异常链\n",
    "异常链在 except 或 finally 子句触发异常时自动生成。禁用异常链可使用 from None 习语：\n"
   ]
  },
  {
   "cell_type": "markdown",
   "id": "4bda1326",
   "metadata": {},
   "source": [
    "## 8.6. 用户自定义异常\n"
   ]
  },
  {
   "cell_type": "code",
   "execution_count": null,
   "id": "ae0c612e",
   "metadata": {},
   "outputs": [],
   "source": [
    "\n",
    "class InputError(Exception):\n",
    "    \"\"\"Exception raised for errors in the input.\n",
    "\n",
    "    Attributes:\n",
    "        expression -- input expression in which the error occurred\n",
    "        message -- explanation of the error\n",
    "    \"\"\"\n",
    "\n",
    "    def __init__(self, expression, message):\n",
    "        self.expression = expression\n",
    "        self.message = message"
   ]
  },
  {
   "cell_type": "markdown",
   "id": "6fee5178",
   "metadata": {},
   "source": [
    "## 8.7. 定义清理操作"
   ]
  },
  {
   "cell_type": "code",
   "execution_count": null,
   "id": "dc3324cc",
   "metadata": {},
   "outputs": [],
   "source": [
    " def bool_return():\n",
    "    try:\n",
    "        return True\n",
    "    finally:\n",
    "        return False\n",
    "bool_return()"
   ]
  }
 ],
 "metadata": {
  "kernelspec": {
   "display_name": "Python 3",
   "language": "python",
   "name": "python3"
  },
  "language_info": {
   "codemirror_mode": {
    "name": "ipython",
    "version": 3
   },
   "file_extension": ".py",
   "mimetype": "text/x-python",
   "name": "python",
   "nbconvert_exporter": "python",
   "pygments_lexer": "ipython3",
   "version": "3.7.0"
  }
 },
 "nbformat": 4,
 "nbformat_minor": 5
}